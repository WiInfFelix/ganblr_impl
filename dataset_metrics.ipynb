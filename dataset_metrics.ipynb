{
 "cells": [
  {
   "cell_type": "code",
   "execution_count": 1,
   "metadata": {},
   "outputs": [],
   "source": [
    "import pandas as pd\n",
    "import numpy as np\n",
    "import seaborn as sns"
   ]
  },
  {
   "cell_type": "markdown",
   "metadata": {},
   "source": [
    "# Superstore analysis"
   ]
  },
  {
   "cell_type": "code",
   "execution_count": 26,
   "metadata": {},
   "outputs": [],
   "source": [
    "# load superstore\n",
    "superstore = pd.read_csv(\"./datasets/SampleSuperstore.csv\")"
   ]
  },
  {
   "cell_type": "code",
   "execution_count": 31,
   "metadata": {},
   "outputs": [],
   "source": [
    "def table_metadata_to_latex(frame, caption):\n",
    "    \n",
    "    # create frame with column names and data types\n",
    "    metadata = pd.DataFrame(frame.dtypes, columns=[\"Data Type\"])\n",
    "\n",
    "    # add column for number of unique values\n",
    "    metadata[\"Unique Values\"] = frame.nunique()\n",
    "\n",
    "    print(metadata.to_latex(caption=caption))"
   ]
  },
  {
   "cell_type": "code",
   "execution_count": 32,
   "metadata": {},
   "outputs": [
    {
     "name": "stdout",
     "output_type": "stream",
     "text": [
      "\\begin{table}\n",
      "\\caption{Superstore Metadata}\n",
      "\\begin{tabular}{llr}\n",
      "\\toprule\n",
      " & Data Type & Unique Values \\\\\n",
      "\\midrule\n",
      "Ship Mode & object & 4 \\\\\n",
      "Segment & object & 3 \\\\\n",
      "Country & object & 1 \\\\\n",
      "City & object & 531 \\\\\n",
      "State & object & 49 \\\\\n",
      "Postal Code & int64 & 631 \\\\\n",
      "Region & object & 4 \\\\\n",
      "Category & object & 3 \\\\\n",
      "Sub-Category & object & 17 \\\\\n",
      "Sales & float64 & 5825 \\\\\n",
      "Quantity & int64 & 14 \\\\\n",
      "Discount & float64 & 12 \\\\\n",
      "Profit & float64 & 7287 \\\\\n",
      "\\bottomrule\n",
      "\\end{tabular}\n",
      "\\end{table}\n",
      "\n"
     ]
    }
   ],
   "source": [
    "table_metadata_to_latex(superstore, caption=\"Superstore Metadata\")"
   ]
  },
  {
   "cell_type": "code",
   "execution_count": 14,
   "metadata": {},
   "outputs": [],
   "source": [
    "# get amount of unique features in frame\n",
    "def get_unique_features(frame):\n",
    "    unique_features = []\n",
    "    for col in frame.columns:\n",
    "        unique_features.append([col, len(frame[col].unique())])\n",
    "    return unique_features"
   ]
  },
  {
   "cell_type": "code",
   "execution_count": 12,
   "metadata": {},
   "outputs": [
    {
     "data": {
      "text/plain": [
       "Ship Mode       0\n",
       "Segment         0\n",
       "Country         0\n",
       "City            0\n",
       "State           0\n",
       "Postal Code     0\n",
       "Region          0\n",
       "Category        0\n",
       "Sub-Category    0\n",
       "Sales           0\n",
       "Quantity        0\n",
       "Discount        0\n",
       "Profit          0\n",
       "dtype: int64"
      ]
     },
     "execution_count": 12,
     "metadata": {},
     "output_type": "execute_result"
    }
   ],
   "source": [
    "# get amount of null values in frame\n",
    "superstore.isnull().sum()"
   ]
  },
  {
   "cell_type": "code",
   "execution_count": 15,
   "metadata": {},
   "outputs": [
    {
     "data": {
      "text/plain": [
       "[['Ship Mode', 4],\n",
       " ['Segment', 3],\n",
       " ['Country', 1],\n",
       " ['City', 531],\n",
       " ['State', 49],\n",
       " ['Postal Code', 631],\n",
       " ['Region', 4],\n",
       " ['Category', 3],\n",
       " ['Sub-Category', 17],\n",
       " ['Sales', 5825],\n",
       " ['Quantity', 14],\n",
       " ['Discount', 12],\n",
       " ['Profit', 7287]]"
      ]
     },
     "execution_count": 15,
     "metadata": {},
     "output_type": "execute_result"
    }
   ],
   "source": [
    "get_unique_features(superstore)"
   ]
  },
  {
   "cell_type": "code",
   "execution_count": 34,
   "metadata": {},
   "outputs": [],
   "source": [
    "credit_risk = pd.read_csv(\"./datasets/credit_risk_dataset.csv\")"
   ]
  },
  {
   "cell_type": "code",
   "execution_count": 36,
   "metadata": {},
   "outputs": [
    {
     "data": {
      "text/plain": [
       "(32581, 12)"
      ]
     },
     "execution_count": 36,
     "metadata": {},
     "output_type": "execute_result"
    }
   ],
   "source": [
    "credit_risk.shape"
   ]
  },
  {
   "cell_type": "code",
   "execution_count": 35,
   "metadata": {},
   "outputs": [
    {
     "data": {
      "text/plain": [
       "person_age                       0\n",
       "person_income                    0\n",
       "person_home_ownership            0\n",
       "person_emp_length              895\n",
       "loan_intent                      0\n",
       "loan_grade                       0\n",
       "loan_amnt                        0\n",
       "loan_int_rate                 3116\n",
       "loan_status                      0\n",
       "loan_percent_income              0\n",
       "cb_person_default_on_file        0\n",
       "cb_person_cred_hist_length       0\n",
       "dtype: int64"
      ]
     },
     "execution_count": 35,
     "metadata": {},
     "output_type": "execute_result"
    }
   ],
   "source": [
    "credit_risk.isnull().sum()"
   ]
  }
 ],
 "metadata": {
  "kernelspec": {
   "display_name": "venv",
   "language": "python",
   "name": "python3"
  },
  "language_info": {
   "codemirror_mode": {
    "name": "ipython",
    "version": 3
   },
   "file_extension": ".py",
   "mimetype": "text/x-python",
   "name": "python",
   "nbconvert_exporter": "python",
   "pygments_lexer": "ipython3",
   "version": "3.10.11"
  }
 },
 "nbformat": 4,
 "nbformat_minor": 2
}
