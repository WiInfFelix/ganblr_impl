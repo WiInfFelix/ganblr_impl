{
 "cells": [
  {
   "cell_type": "code",
   "execution_count": 1,
   "metadata": {},
   "outputs": [],
   "source": [
    "import pandas as pd\n",
    "import numpy as np\n",
    "import seaborn as sns"
   ]
  },
  {
   "cell_type": "markdown",
   "metadata": {},
   "source": [
    "# Superstore analysis"
   ]
  },
  {
   "cell_type": "code",
   "execution_count": 3,
   "metadata": {},
   "outputs": [],
   "source": [
    "# load superstore\n",
    "superstore = pd.read_csv(\"./datasets/SampleSuperstore.csv\")\n",
    "credit_risk = pd.read_csv(\"./datasets/credit_risk_dataset.csv\")\n",
    "mushrooms = pd.read_csv(\"./datasets/mushrooms.csv\")"
   ]
  },
  {
   "cell_type": "code",
   "execution_count": 12,
   "metadata": {},
   "outputs": [
    {
     "name": "stdout",
     "output_type": "stream",
     "text": [
      "(9994, 13)\n",
      "(32581, 12)\n",
      "(8124, 23)\n"
     ]
    }
   ],
   "source": [
    "print(superstore.shape)\n",
    "print(credit_risk.shape)\n",
    "print(mushrooms.shape)"
   ]
  },
  {
   "cell_type": "code",
   "execution_count": null,
   "metadata": {},
   "outputs": [],
   "source": []
  },
  {
   "cell_type": "code",
   "execution_count": 14,
   "metadata": {},
   "outputs": [
    {
     "data": {
      "text/plain": [
       "loan_status\n",
       "0    0.781836\n",
       "1    0.218164\n",
       "Name: proportion, dtype: float64"
      ]
     },
     "execution_count": 14,
     "metadata": {},
     "output_type": "execute_result"
    }
   ],
   "source": [
    "credit_risk.loan_status.value_counts(1)"
   ]
  },
  {
   "cell_type": "code",
   "execution_count": 16,
   "metadata": {},
   "outputs": [
    {
     "data": {
      "text/plain": [
       "class\n",
       "e    0.517971\n",
       "p    0.482029\n",
       "Name: proportion, dtype: float64"
      ]
     },
     "execution_count": 16,
     "metadata": {},
     "output_type": "execute_result"
    }
   ],
   "source": [
    "mushrooms[\"class\"].value_counts(1)"
   ]
  },
  {
   "cell_type": "code",
   "execution_count": 13,
   "metadata": {},
   "outputs": [
    {
     "data": {
      "text/plain": [
       "Index(['person_age', 'person_income', 'person_home_ownership',\n",
       "       'person_emp_length', 'loan_intent', 'loan_grade', 'loan_amnt',\n",
       "       'loan_int_rate', 'loan_status', 'loan_percent_income',\n",
       "       'cb_person_default_on_file', 'cb_person_cred_hist_length'],\n",
       "      dtype='object')"
      ]
     },
     "execution_count": 13,
     "metadata": {},
     "output_type": "execute_result"
    }
   ],
   "source": [
    "credit_risk.columns"
   ]
  },
  {
   "cell_type": "code",
   "execution_count": 8,
   "metadata": {},
   "outputs": [],
   "source": [
    "def table_metadata_to_latex(frame, caption):\n",
    "    \n",
    "    # create frame with column names and data types\n",
    "    metadata = pd.DataFrame(frame.dtypes, columns=[\"Data Type\"])\n",
    "\n",
    "    # add column for number of unique values\n",
    "    metadata[\"Unique Values\"] = frame.nunique()\n",
    "\n",
    "    # add column for number of missing values\n",
    "    metadata[\"Missing Values\"] = frame.isnull().sum()\n",
    "\n",
    "    # escape underscores in column names\n",
    "    metadata.index = metadata.index.str.replace(\"_\", \"\\_\")\n",
    "\n",
    "    print(metadata.to_latex(caption=caption))"
   ]
  },
  {
   "cell_type": "code",
   "execution_count": 9,
   "metadata": {},
   "outputs": [
    {
     "name": "stdout",
     "output_type": "stream",
     "text": [
      "\\begin{table}\n",
      "\\caption{Superstore Metadata}\n",
      "\\begin{tabular}{llrr}\n",
      "\\toprule\n",
      " & Data Type & Unique Values & Missing Values \\\\\n",
      "\\midrule\n",
      "Ship Mode & object & 4 & 0 \\\\\n",
      "Segment & object & 3 & 0 \\\\\n",
      "Country & object & 1 & 0 \\\\\n",
      "City & object & 531 & 0 \\\\\n",
      "State & object & 49 & 0 \\\\\n",
      "Postal Code & int64 & 631 & 0 \\\\\n",
      "Region & object & 4 & 0 \\\\\n",
      "Category & object & 3 & 0 \\\\\n",
      "Sub-Category & object & 17 & 0 \\\\\n",
      "Sales & float64 & 5825 & 0 \\\\\n",
      "Quantity & int64 & 14 & 0 \\\\\n",
      "Discount & float64 & 12 & 0 \\\\\n",
      "Profit & float64 & 7287 & 0 \\\\\n",
      "\\bottomrule\n",
      "\\end{tabular}\n",
      "\\end{table}\n",
      "\n",
      "\\begin{table}\n",
      "\\caption{Credit Risk Metadata}\n",
      "\\begin{tabular}{llrr}\n",
      "\\toprule\n",
      " & Data Type & Unique Values & Missing Values \\\\\n",
      "\\midrule\n",
      "person\\_age & int64 & 58 & 0 \\\\\n",
      "person\\_income & int64 & 4295 & 0 \\\\\n",
      "person\\_home\\_ownership & object & 4 & 0 \\\\\n",
      "person\\_emp\\_length & float64 & 36 & 895 \\\\\n",
      "loan\\_intent & object & 6 & 0 \\\\\n",
      "loan\\_grade & object & 7 & 0 \\\\\n",
      "loan\\_amnt & int64 & 753 & 0 \\\\\n",
      "loan\\_int\\_rate & float64 & 348 & 3116 \\\\\n",
      "loan\\_status & int64 & 2 & 0 \\\\\n",
      "loan\\_percent\\_income & float64 & 77 & 0 \\\\\n",
      "cb\\_person\\_default\\_on\\_file & object & 2 & 0 \\\\\n",
      "cb\\_person\\_cred\\_hist\\_length & int64 & 29 & 0 \\\\\n",
      "\\bottomrule\n",
      "\\end{tabular}\n",
      "\\end{table}\n",
      "\n",
      "\\begin{table}\n",
      "\\caption{Mushrooms Metadata}\n",
      "\\begin{tabular}{llrr}\n",
      "\\toprule\n",
      " & Data Type & Unique Values & Missing Values \\\\\n",
      "\\midrule\n",
      "class & object & 2 & 0 \\\\\n",
      "cap-shape & object & 6 & 0 \\\\\n",
      "cap-surface & object & 4 & 0 \\\\\n",
      "cap-color & object & 10 & 0 \\\\\n",
      "bruises & object & 2 & 0 \\\\\n",
      "odor & object & 9 & 0 \\\\\n",
      "gill-attachment & object & 2 & 0 \\\\\n",
      "gill-spacing & object & 2 & 0 \\\\\n",
      "gill-size & object & 2 & 0 \\\\\n",
      "gill-color & object & 12 & 0 \\\\\n",
      "stalk-shape & object & 2 & 0 \\\\\n",
      "stalk-root & object & 5 & 0 \\\\\n",
      "stalk-surface-above-ring & object & 4 & 0 \\\\\n",
      "stalk-surface-below-ring & object & 4 & 0 \\\\\n",
      "stalk-color-above-ring & object & 9 & 0 \\\\\n",
      "stalk-color-below-ring & object & 9 & 0 \\\\\n",
      "veil-type & object & 1 & 0 \\\\\n",
      "veil-color & object & 4 & 0 \\\\\n",
      "ring-number & object & 3 & 0 \\\\\n",
      "ring-type & object & 5 & 0 \\\\\n",
      "spore-print-color & object & 9 & 0 \\\\\n",
      "population & object & 6 & 0 \\\\\n",
      "habitat & object & 7 & 0 \\\\\n",
      "\\bottomrule\n",
      "\\end{tabular}\n",
      "\\end{table}\n",
      "\n"
     ]
    }
   ],
   "source": [
    "table_metadata_to_latex(superstore, caption=\"Superstore Metadata\")\n",
    "table_metadata_to_latex(credit_risk, caption=\"Credit Risk Metadata\")\n",
    "table_metadata_to_latex(mushrooms, caption=\"Mushrooms Metadata\")"
   ]
  },
  {
   "cell_type": "code",
   "execution_count": 14,
   "metadata": {},
   "outputs": [],
   "source": [
    "# get amount of unique features in frame\n",
    "def get_unique_features(frame):\n",
    "    unique_features = []\n",
    "    for col in frame.columns:\n",
    "        unique_features.append([col, len(frame[col].unique())])\n",
    "    return unique_features"
   ]
  },
  {
   "cell_type": "code",
   "execution_count": 12,
   "metadata": {},
   "outputs": [
    {
     "data": {
      "text/plain": [
       "Ship Mode       0\n",
       "Segment         0\n",
       "Country         0\n",
       "City            0\n",
       "State           0\n",
       "Postal Code     0\n",
       "Region          0\n",
       "Category        0\n",
       "Sub-Category    0\n",
       "Sales           0\n",
       "Quantity        0\n",
       "Discount        0\n",
       "Profit          0\n",
       "dtype: int64"
      ]
     },
     "execution_count": 12,
     "metadata": {},
     "output_type": "execute_result"
    }
   ],
   "source": [
    "# get amount of null values in frame\n",
    "superstore.isnull().sum()"
   ]
  },
  {
   "cell_type": "code",
   "execution_count": 15,
   "metadata": {},
   "outputs": [
    {
     "data": {
      "text/plain": [
       "[['Ship Mode', 4],\n",
       " ['Segment', 3],\n",
       " ['Country', 1],\n",
       " ['City', 531],\n",
       " ['State', 49],\n",
       " ['Postal Code', 631],\n",
       " ['Region', 4],\n",
       " ['Category', 3],\n",
       " ['Sub-Category', 17],\n",
       " ['Sales', 5825],\n",
       " ['Quantity', 14],\n",
       " ['Discount', 12],\n",
       " ['Profit', 7287]]"
      ]
     },
     "execution_count": 15,
     "metadata": {},
     "output_type": "execute_result"
    }
   ],
   "source": [
    "get_unique_features(superstore)"
   ]
  },
  {
   "cell_type": "code",
   "execution_count": 34,
   "metadata": {},
   "outputs": [],
   "source": [
    "credit_risk = pd.read_csv(\"./datasets/credit_risk_dataset.csv\")"
   ]
  },
  {
   "cell_type": "code",
   "execution_count": 36,
   "metadata": {},
   "outputs": [
    {
     "data": {
      "text/plain": [
       "(32581, 12)"
      ]
     },
     "execution_count": 36,
     "metadata": {},
     "output_type": "execute_result"
    }
   ],
   "source": [
    "credit_risk.shape"
   ]
  },
  {
   "cell_type": "code",
   "execution_count": 35,
   "metadata": {},
   "outputs": [
    {
     "data": {
      "text/plain": [
       "person_age                       0\n",
       "person_income                    0\n",
       "person_home_ownership            0\n",
       "person_emp_length              895\n",
       "loan_intent                      0\n",
       "loan_grade                       0\n",
       "loan_amnt                        0\n",
       "loan_int_rate                 3116\n",
       "loan_status                      0\n",
       "loan_percent_income              0\n",
       "cb_person_default_on_file        0\n",
       "cb_person_cred_hist_length       0\n",
       "dtype: int64"
      ]
     },
     "execution_count": 35,
     "metadata": {},
     "output_type": "execute_result"
    }
   ],
   "source": [
    "credit_risk.isnull().sum()"
   ]
  }
 ],
 "metadata": {
  "kernelspec": {
   "display_name": "venv",
   "language": "python",
   "name": "python3"
  },
  "language_info": {
   "codemirror_mode": {
    "name": "ipython",
    "version": 3
   },
   "file_extension": ".py",
   "mimetype": "text/x-python",
   "name": "python",
   "nbconvert_exporter": "python",
   "pygments_lexer": "ipython3",
   "version": "3.10.11"
  }
 },
 "nbformat": 4,
 "nbformat_minor": 2
}
