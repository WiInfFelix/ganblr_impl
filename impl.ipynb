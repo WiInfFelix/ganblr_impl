{
 "cells": [
  {
   "cell_type": "code",
   "execution_count": 1,
   "metadata": {
    "ExecuteTime": {
     "end_time": "2023-09-04T11:34:03.536968900Z",
     "start_time": "2023-09-04T11:34:02.194844800Z"
    }
   },
   "outputs": [],
   "source": [
    "import pandas as pd\n",
    "import numpy as np\n"
   ]
  },
  {
   "cell_type": "code",
   "execution_count": 2,
   "metadata": {
    "ExecuteTime": {
     "end_time": "2023-09-04T11:34:15.376432Z",
     "start_time": "2023-09-04T11:34:15.332126300Z"
    }
   },
   "outputs": [],
   "source": [
    "dataset = pd.read_csv('datasets/SampleSuperstore.csv')"
   ]
  },
  {
   "cell_type": "code",
   "execution_count": 3,
   "metadata": {
    "ExecuteTime": {
     "end_time": "2023-09-04T11:34:16.653119600Z",
     "start_time": "2023-09-04T11:34:16.644193100Z"
    }
   },
   "outputs": [
    {
     "data": {
      "text/plain": "Ship Mode        object\nSegment          object\nCountry          object\nCity             object\nState            object\nPostal Code       int64\nRegion           object\nCategory         object\nSub-Category     object\nSales           float64\nQuantity          int64\nDiscount        float64\nProfit          float64\ndtype: object"
     },
     "execution_count": 3,
     "metadata": {},
     "output_type": "execute_result"
    }
   ],
   "source": [
    "dataset.dtypes"
   ]
  },
  {
   "cell_type": "code",
   "execution_count": 4,
   "metadata": {
    "ExecuteTime": {
     "end_time": "2023-09-04T11:34:21.148489700Z",
     "start_time": "2023-09-04T11:34:21.125808800Z"
    }
   },
   "outputs": [
    {
     "name": "stdout",
     "output_type": "stream",
     "text": [
      "        Postal Code         Sales     Quantity     Discount       Profit\n",
      "count   9994.000000   9994.000000  9994.000000  9994.000000  9994.000000\n",
      "mean   55190.379428    229.858001     3.789574     0.156203    28.656896\n",
      "std    32063.693350    623.245101     2.225110     0.206452   234.260108\n",
      "min     1040.000000      0.444000     1.000000     0.000000 -6599.978000\n",
      "25%    23223.000000     17.280000     2.000000     0.000000     1.728750\n",
      "50%    56430.500000     54.490000     3.000000     0.200000     8.666500\n",
      "75%    90008.000000    209.940000     5.000000     0.200000    29.364000\n",
      "max    99301.000000  22638.480000    14.000000     0.800000  8399.976000\n"
     ]
    }
   ],
   "source": [
    "print(dataset.describe())"
   ]
  },
  {
   "cell_type": "code",
   "execution_count": 5,
   "outputs": [
    {
     "data": {
      "text/plain": "Index(['Ship Mode', 'Segment', 'Country', 'City', 'State', 'Postal Code',\n       'Region', 'Category', 'Sub-Category', 'Sales', 'Quantity', 'Discount',\n       'Profit'],\n      dtype='object')"
     },
     "execution_count": 5,
     "metadata": {},
     "output_type": "execute_result"
    }
   ],
   "source": [
    "dataset.columns"
   ],
   "metadata": {
    "collapsed": false,
    "ExecuteTime": {
     "end_time": "2023-09-04T11:34:31.108309500Z",
     "start_time": "2023-09-04T11:34:31.100047100Z"
    }
   }
  }
 ],
 "metadata": {
  "kernelspec": {
   "display_name": "venv",
   "language": "python",
   "name": "python3"
  },
  "language_info": {
   "codemirror_mode": {
    "name": "ipython",
    "version": 3
   },
   "file_extension": ".py",
   "mimetype": "text/x-python",
   "name": "python",
   "nbconvert_exporter": "python",
   "pygments_lexer": "ipython3",
   "version": "3.10.11"
  },
  "orig_nbformat": 4
 },
 "nbformat": 4,
 "nbformat_minor": 2
}
